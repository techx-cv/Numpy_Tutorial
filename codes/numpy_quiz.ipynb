{
 "cells": [
  {
   "cell_type": "code",
   "execution_count": null,
   "source": [],
   "outputs": [],
   "metadata": {}
  },
  {
   "cell_type": "markdown",
   "source": [
    "# Numpy Quiz\n",
    "## TechX"
   ],
   "metadata": {}
  },
  {
   "cell_type": "code",
   "execution_count": null,
   "source": [
    "# Task one: import dependencies and create a 3*3 zero matrix called \"a\" (datatype is float)\n",
    "\n"
   ],
   "outputs": [],
   "metadata": {}
  },
  {
   "cell_type": "code",
   "execution_count": 19,
   "source": [
    "# sample answer:\n",
    "import numpy as np\n",
    "a = np.zeros((3,3),dtype=float)\n",
    "a"
   ],
   "outputs": [
    {
     "output_type": "execute_result",
     "data": {
      "text/plain": [
       "array([[0., 0., 0.],\n",
       "       [0., 0., 0.],\n",
       "       [0., 0., 0.]])"
      ]
     },
     "metadata": {},
     "execution_count": 19
    }
   ],
   "metadata": {}
  },
  {
   "cell_type": "code",
   "execution_count": 15,
   "source": [
    "# Task two: create a random matrix with shape (3,4) in the range [3,4) called \"b\" (datatype is float)\n",
    "\n"
   ],
   "outputs": [],
   "metadata": {}
  },
  {
   "cell_type": "code",
   "execution_count": 14,
   "source": [
    "# sample answer:\n",
    "b = np.random.random((3,4))+3\n",
    "b"
   ],
   "outputs": [
    {
     "output_type": "execute_result",
     "data": {
      "text/plain": [
       "array([[3.02286403, 3.12721035, 3.32840395, 3.04132592],\n",
       "       [3.80318297, 3.47017194, 3.25628236, 3.4261161 ],\n",
       "       [3.61022637, 3.96804755, 3.37844623, 3.62670905]])"
      ]
     },
     "metadata": {},
     "execution_count": 14
    }
   ],
   "metadata": {}
  },
  {
   "cell_type": "code",
   "execution_count": null,
   "source": [
    "# Task three: change the second column of \"b\" to [18,18,18]. Merge both \"a\" and \"b\" to a 3*7 matrix called \"c\"\n",
    "\n",
    "\n",
    "# hint: use np.concatenate to merge matrices. Be careful for the axis"
   ],
   "outputs": [],
   "metadata": {}
  },
  {
   "cell_type": "code",
   "execution_count": 24,
   "source": [
    "#sample answer\n",
    "b[:,1] = 18\n",
    "c = np.concatenate((a,b), axis=1)\n",
    "print(b)\n",
    "print(c)"
   ],
   "outputs": [
    {
     "output_type": "stream",
     "name": "stdout",
     "text": [
      "[[ 3.02286403 18.          3.32840395  3.04132592]\n",
      " [ 3.80318297 18.          3.25628236  3.4261161 ]\n",
      " [ 3.61022637 18.          3.37844623  3.62670905]]\n",
      "[[ 0.          0.          0.          3.02286403 18.          3.32840395\n",
      "   3.04132592]\n",
      " [ 0.          0.          0.          3.80318297 18.          3.25628236\n",
      "   3.4261161 ]\n",
      " [ 0.          0.          0.          3.61022637 18.          3.37844623\n",
      "   3.62670905]]\n"
     ]
    }
   ],
   "metadata": {}
  },
  {
   "cell_type": "code",
   "execution_count": 27,
   "source": [
    "# Bonus question: sort an array \"x\" using numpy (in an increasing sequence)\n",
    "\n",
    "x = np.array([10,25,31,2,74,1,22,34,62,29,82,15,47,29])\n"
   ],
   "outputs": [],
   "metadata": {}
  },
  {
   "cell_type": "code",
   "execution_count": 29,
   "source": [
    "#sample answer\n",
    "for i in range(x.size):\n",
    "    for j in range(i,x.size):\n",
    "        if x[i]>x[j]:\n",
    "            x[i],x[j] = x[j],x[i]\n",
    "x"
   ],
   "outputs": [
    {
     "output_type": "execute_result",
     "data": {
      "text/plain": [
       "array([ 1,  2, 10, 15, 22, 25, 29, 29, 31, 34, 47, 62, 74, 82])"
      ]
     },
     "metadata": {},
     "execution_count": 29
    }
   ],
   "metadata": {}
  }
 ],
 "metadata": {
  "orig_nbformat": 4,
  "language_info": {
   "name": "python"
  }
 },
 "nbformat": 4,
 "nbformat_minor": 2
}